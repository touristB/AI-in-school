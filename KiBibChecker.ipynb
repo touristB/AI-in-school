{
  "nbformat": 4,
  "nbformat_minor": 0,
  "metadata": {
    "colab": {
      "name": "KiBibChecker.ipynb",
      "provenance": []
    }
  },
  "cells": [
    {
      "cell_type": "markdown",
      "metadata": {
        "id": "YFJWuZgoCOGN",
        "colab_type": "text"
      },
      "source": [
        "**Bibliotheken checker** (A. Schindler)\n",
        "\n",
        "Es wird überprüft ob typische Bibliotheken für die KI/DL Entwicklung vorhanden sind, wenn möglich folgt die Ausgabe der Version\n"
      ]
    },
    {
      "cell_type": "code",
      "metadata": {
        "id": "PqYTzkG1Bv61",
        "colab_type": "code",
        "colab": {}
      },
      "source": [
        "import os\n",
        "import sys\n",
        "import platform\n",
        "\n",
        "print (\"::::::::::::::::::::::::::::::::::::::::::::::::::::::::::::::::::::::::::::::::::::::::\")\n",
        "print (\"::                                                                                    ::\")\n",
        "print (\"::   KI-Bibliotheken checker - ver.: 1.6.2020                                         ::\")\n",
        "print (\"::        Prüft ob typische Bibliotheken für KI/DL Entwicklung vorhanden sind.        ::\")\n",
        "print (\"::                                                                                    ::\")\n",
        "print (\"::::::::::::::::::::::::::::::::::::::::::::::::::::::::::::::::::::::::::::::::::::::::\\n\")"
      ],
      "execution_count": null,
      "outputs": []
    },
    {
      "cell_type": "markdown",
      "metadata": {
        "id": "uut7xwoWCqzV",
        "colab_type": "text"
      },
      "source": [
        "Interessant v.a. für die Entwicklung am Rechner mit vorinstallierter IDE (z.B. Spyder / Anaconda) und installiertem python. "
      ]
    },
    {
      "cell_type": "code",
      "metadata": {
        "id": "oqg_vt_sBv67",
        "colab_type": "code",
        "colab": {}
      },
      "source": [
        "print (\"tensorflow hat bekannte Probleme mit Python ver. 3.7. Installiert ist:: Python ver.:\",platform.python_version())\n",
        "import struct\n",
        "print (\"tensorflow benötigt 64-Bit. Installiert ist                          :: \", end = '')\n",
        "print(struct.calcsize(\"P\") * 8, \"-Bit\")\n",
        "print (\"Python Installationsort                                              ::\", os.path.dirname(sys.executable))"
      ],
      "execution_count": null,
      "outputs": []
    },
    {
      "cell_type": "code",
      "metadata": {
        "id": "jSMzMM9QBv7A",
        "colab_type": "code",
        "colab": {}
      },
      "source": [
        "try:\n",
        "    import tensorflow as tf\n",
        "    print (\"Bibliothek:: import tensorflow as tf                ver.:\", tf.__version__)\n",
        "    print (\"Bibliothek::        keras: tf.keras.__version__     ver.:\", tf.keras.__version__)\n",
        "except:\n",
        "    print(\"ERROR: import tensorflow\")\n",
        "\n",
        "try:\n",
        "    import numpy as np\n",
        "    print (\"Bibliothek:: import numpy                           ver.:\", np.__version__)\n",
        "except:\n",
        "    print (\"ERROR: import numpy\")\n",
        "\n",
        "try:\n",
        "    import matplotlib\n",
        "    print (\"Bibliothek:: import matplotlib                      ver.:\", matplotlib.__version__)\n",
        "except:\n",
        "    print (\"ERROR: import matplotlib\")\n",
        "\n",
        "try:\n",
        "    import matplotlib.pyplot\n",
        "    print (\"Bibliothek:: import matplotlib.pyplot               -- OK\")\n",
        "    from matplotlib import pyplot as plt\n",
        "    print (\"Bibliothek:: from matplotlip import pyplot as plt   -- OK\")\n",
        "except:\n",
        "    print (\"ERROR: import matplotlib.pyplot\")\n",
        "\n",
        "\n"
      ],
      "execution_count": null,
      "outputs": []
    }
  ]
}