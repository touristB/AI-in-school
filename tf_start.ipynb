{
 "cells": [
  {
   "cell_type": "code",
   "execution_count": 1,
   "id": "2a645ef0",
   "metadata": {},
   "outputs": [],
   "source": [
    "import tensorflow as tf\n",
    "\n",
    "# Erstellen der Trainingsdaten\n",
    "inputMuster = [1, 2, 4]\n",
    "outputMuster= [3, 6, 12]\n",
    "\n",
    "# Aufbau des neuronalen Netzwerkes\n",
    "model = tf.keras.Sequential()\n",
    "model.add(tf.keras.layers.Dense(1, input_shape=[1]))\n",
    "model.compile(optimizer='sgd', loss='mean_squared_error')\n",
    "\n",
    "# trainieren des neuronalen Netzwerkes\n",
    "model.fit(inputMuster, outputMuster, epochs=20)\n",
    "\n",
    "# Testen des neuronalen Netzwerkes mit Testdaten\n",
    "testMuster = [22]\n",
    "print(model.predict(testMuster))"
   ]
  }
 ],
 "metadata": {},
 "nbformat": 4,
 "nbformat_minor": 5
}
