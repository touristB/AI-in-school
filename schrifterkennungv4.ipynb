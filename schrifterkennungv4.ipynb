{
  "nbformat": 4,
  "nbformat_minor": 0,
  "metadata": {
    "colab": {
      "name": "schrifterkennung.ipynb",
      "provenance": []
    }
  },
  "cells": [
    {
      "cell_type": "markdown",
      "metadata": {
        "id": "d_xf5ygh0MCv",
        "colab_type": "text"
      },
      "source": [
        "**Erkennung handschriftlicher Ziffern mit TensorFlow** (A.Schindler)\n",
        "\n",
        "die Ziffern entstammen dem MNIST Datensatz und sind Teil von TensorFlow. Die Ziffernerkennung folgt dem Ablauf:\n",
        "1.   Daten aufbereiten (*data processing*)\n",
        "2.   Neuronales Netzwerk (`model`) erstellen\n",
        "3.   `model` trainieren\n",
        "4.   `model` prüfen\n",
        "5.   `model` testen\n",
        "6.    Ausgabe\n",
        "\n",
        "\n",
        "\n",
        "\n",
        "-------------------------\n",
        "TensorFlow, Numpy, matplotlib Bibliothekenimportieren:"
      ]
    },
    {
      "cell_type": "code",
      "metadata": {
        "id": "7CL-RaGM0DPH",
        "colab_type": "code",
        "colab": {}
      },
      "source": [
        "import tensorflow as tf\n",
        "import numpy\n",
        "import matplotlib"
      ],
      "execution_count": null,
      "outputs": []
    },
    {
      "cell_type": "markdown",
      "metadata": {
        "id": "UZ0f5KMO1PJX",
        "colab_type": "text"
      },
      "source": [
        "1. Daten Aufbereiten:"
      ]
    },
    {
      "cell_type": "code",
      "metadata": {
        "id": "q8TmpAJ40DPO",
        "colab_type": "code",
        "colab": {}
      },
      "source": [
        "mnist = tf.keras.datasets.mnist\n",
        "\n",
        "(trainZiffernBilder, trainZiffernLabels),(testZiffernBilder, testZiffernLabels) = mnist.load_data() \n",
        "trainZiffernBilder = trainZiffernBilder / 255.0\n",
        "testZiffernBilder = testZiffernBilder / 255.0"
      ],
      "execution_count": null,
      "outputs": []
    },
    {
      "cell_type": "markdown",
      "metadata": {
        "id": "7CycTO071XtH",
        "colab_type": "text"
      },
      "source": [
        "2. `model` erstellen:"
      ]
    },
    {
      "cell_type": "code",
      "metadata": {
        "id": "rfgR0av50DPS",
        "colab_type": "code",
        "colab": {}
      },
      "source": [
        "model = tf.keras.Sequential()\n",
        "model.add(tf.keras.layers.Flatten(input_shape=(28, 28)))\n",
        "model.add(tf.keras.layers.Dense(128, activation=tf.nn.relu))\n",
        "model.add(tf.keras.layers.Dense(10, activation=tf.nn.softmax))\n",
        "\n",
        "model.compile(optimizer='adam', loss='sparse_categorical_crossentropy', metrics=['accuracy'])"
      ],
      "execution_count": null,
      "outputs": []
    },
    {
      "cell_type": "markdown",
      "metadata": {
        "id": "5ICat7SK1eR-",
        "colab_type": "text"
      },
      "source": [
        "3. `model` trainieren:"
      ]
    },
    {
      "cell_type": "code",
      "metadata": {
        "id": "5s5tQNrm0DPW",
        "colab_type": "code",
        "colab": {}
      },
      "source": [
        "model.fit(trainZiffernBilder, trainZiffernLabels, epochs=5)\n",
        "print(\"4. Model prüfen\")\n",
        "modWeighsBsp3 = model.get_weights()"
      ],
      "execution_count": null,
      "outputs": []
    },
    {
      "cell_type": "markdown",
      "metadata": {
        "id": "XS8bZjJz1oEG",
        "colab_type": "text"
      },
      "source": [
        "4. `model` prüfen:"
      ]
    },
    {
      "cell_type": "code",
      "metadata": {
        "id": "Lzdt5qqB0DPa",
        "colab_type": "code",
        "colab": {}
      },
      "source": [
        "verlust, genauigkeit = model.evaluate(testZiffernBilder, testZiffernLabels)\n",
        "print('Verlust: ', verlust, 'Genauigkeit: ', genauigkeit)"
      ],
      "execution_count": null,
      "outputs": []
    },
    {
      "cell_type": "markdown",
      "metadata": {
        "id": "5D66uN4t1y7O",
        "colab_type": "text"
      },
      "source": [
        "5. `model` Testen mit Testdaten:\n",
        "\n",
        "\n",
        "\n"
      ]
    },
    {
      "cell_type": "code",
      "metadata": {
        "id": "8TzVXkj10DPd",
        "colab_type": "code",
        "colab": {}
      },
      "source": [
        "gesuchteZahlIndex = 0\n",
        "erkennungsRaten = model.predict (testZiffernBilder [gesuchteZahlIndex:gesuchteZahlIndex+1])\n",
        "\n",
        "flattendEr = erkennungsRaten.flatten()\n",
        "flattendTZLabels = testZiffernLabels.flatten()"
      ],
      "execution_count": null,
      "outputs": []
    },
    {
      "cell_type": "markdown",
      "metadata": {
        "id": "Y_MA33sq2AZ9",
        "colab_type": "text"
      },
      "source": [
        "6. Ausgabe der gesuchten Zahl als Bild:"
      ]
    },
    {
      "cell_type": "code",
      "metadata": {
        "id": "rqyEyaSd0DPg",
        "colab_type": "code",
        "colab": {}
      },
      "source": [
        "imageArray = numpy.asfarray (testZiffernBilder [gesuchteZahlIndex:gesuchteZahlIndex+1]).reshape((28,28))\n",
        "matplotlib.pyplot.imshow(imageArray, cmap='Greys', interpolation='None')\n",
        "matplotlib.pyplot.show()\n",
        "print (\"gesuchte Zahl: \", flattendTZLabels[gesuchteZahlIndex])"
      ],
      "execution_count": null,
      "outputs": []
    },
    {
      "cell_type": "markdown",
      "metadata": {
        "id": "NY3OBxVH2Dwe",
        "colab_type": "text"
      },
      "source": [
        "Ausgabe der Erkennungsraten:"
      ]
    },
    {
      "cell_type": "code",
      "metadata": {
        "id": "wPZf6kqD0DPj",
        "colab_type": "code",
        "colab": {}
      },
      "source": [
        "counter = 0\n",
        "while counter < 10:\n",
        "    readAbleErkennung = flattendEr[counter] * 10000\n",
        "    readAbleErkennung = readAbleErkennung.astype(int)\n",
        "    readAbleErkennung = readAbleErkennung / 10000\n",
        "    print (\" Zahl:\", counter, \"  Erkennungsrate:\", readAbleErkennung)\n",
        "    counter = counter + 1"
      ],
      "execution_count": null,
      "outputs": []
    }
  ]
}