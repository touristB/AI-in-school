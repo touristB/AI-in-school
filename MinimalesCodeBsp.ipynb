{
  "nbformat": 4,
  "nbformat_minor": 0,
  "metadata": {
    "colab": {
      "name": "Untitled1.ipynb",
      "provenance": [],
      "collapsed_sections": []
    },
    "kernelspec": {
      "name": "python3",
      "display_name": "Python 3"
    }
  },
  "cells": [
    {
      "cell_type": "markdown",
      "metadata": {
        "id": "nh17vlF1wpbq",
        "colab_type": "text"
      },
      "source": [
        "**Minimales Beispiel mit TensorFlow** (A. Schindler)\n",
        "\n",
        "Es folgt dem Ablauf\n",
        "1.   Daten aufbereiten (*data processing*)\n",
        "2.   Neuronales Netzwerk (`model`) erstellen\n",
        "3.   `model` trainieren\n",
        "4.   `model` testen\n",
        "\n",
        "\n",
        "\n",
        "\n",
        "-------------------------\n",
        "TensorFlow Bibliothek importieren:\n"
      ]
    },
    {
      "cell_type": "code",
      "metadata": {
        "id": "dggFxZk3wcgS",
        "colab_type": "code",
        "colab": {}
      },
      "source": [
        "import tensorflow as tf\n"
      ],
      "execution_count": null,
      "outputs": []
    },
    {
      "cell_type": "markdown",
      "metadata": {
        "id": "e9eam7_Twdhy",
        "colab_type": "text"
      },
      "source": [
        "1. Die Trainingsdaten werden erstellt:\n",
        "\n",
        "\n",
        "\n",
        "\n"
      ]
    },
    {
      "cell_type": "code",
      "metadata": {
        "id": "pUVboxlxxFTc",
        "colab_type": "code",
        "colab": {}
      },
      "source": [
        "inputMuster = [1, 2, 4]\n",
        "outputMuster= [3, 6, 12]"
      ],
      "execution_count": null,
      "outputs": []
    },
    {
      "cell_type": "markdown",
      "metadata": {
        "id": "oPuO97W2xKDe",
        "colab_type": "text"
      },
      "source": [
        "2.  Aufbau des neuronalen Netzwerkes:"
      ]
    },
    {
      "cell_type": "code",
      "metadata": {
        "id": "9MyV0B4KxOpd",
        "colab_type": "code",
        "colab": {}
      },
      "source": [
        "model = tf.keras.Sequential()\n",
        "model.add(tf.keras.layers.Dense(1, input_shape=[1]))\n",
        "model.compile(optimizer='sgd', loss='mean_squared_error')"
      ],
      "execution_count": null,
      "outputs": []
    },
    {
      "cell_type": "markdown",
      "metadata": {
        "id": "JDsPSCgUxXZA",
        "colab_type": "text"
      },
      "source": [
        "3. Trainieren des neuronalen Netzwerkes:"
      ]
    },
    {
      "cell_type": "code",
      "metadata": {
        "id": "g2aPk21HxbSe",
        "colab_type": "code",
        "colab": {}
      },
      "source": [
        "model.fit(inputMuster, outputMuster, epochs=1000)"
      ],
      "execution_count": null,
      "outputs": []
    },
    {
      "cell_type": "markdown",
      "metadata": {
        "id": "XAQJWIIVx-Vd",
        "colab_type": "text"
      },
      "source": [
        "4. Testen des neuronalen Netzwerkes mit Testdaten hier 22:"
      ]
    },
    {
      "cell_type": "code",
      "metadata": {
        "id": "I4LV8XxmyAIF",
        "colab_type": "code",
        "colab": {}
      },
      "source": [
        "testMuster = [22]\n",
        "print(model.predict(testMuster))"
      ],
      "execution_count": null,
      "outputs": []
    }
  ]
}