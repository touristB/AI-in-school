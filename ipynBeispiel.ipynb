{
  "nbformat": 4,
  "nbformat_minor": 0,
  "metadata": {
    "colab": {
      "name": "ipynBeispiel.ipynb",
      "provenance": [],
      "collapsed_sections": [],
      "include_colab_link": true
    },
    "kernelspec": {
      "name": "python3",
      "display_name": "Python 3"
    }
  },
  "cells": [
    {
      "cell_type": "markdown",
      "metadata": {
        "id": "view-in-github",
        "colab_type": "text"
      },
      "source": [
        "<a href=\"https://colab.research.google.com/github/touristB/AI-in-school/blob/master/ipynBeispiel.ipynb\" target=\"_parent\"><img src=\"https://colab.research.google.com/assets/colab-badge.svg\" alt=\"Open In Colab\"/></a>"
      ]
    },
    {
      "cell_type": "code",
      "metadata": {
        "colab": {
          "base_uri": "https://localhost:8080/"
        },
        "id": "pnKIzjQOHDeb",
        "outputId": "c8026001-6064-4c3a-dc13-9505a3a42418"
      },
      "source": [
        "import os\n",
        "import sys\n",
        "import platform\n",
        "\n",
        "print (\"::::::::::::::::::::::::::::::::::::::::::::::::::::::::::::::::::::::::::::::::::::::::\")\n",
        "print (\"::                                                                                    ::\")\n",
        "print (\"::   Regionalkonferenz Informatik 19.1.2021                                           ::\")\n",
        "print (\"::        IPythonNotebook Beispiel.                                                   ::\")\n",
        "print (\"::                                                                                    ::\")\n",
        "print (\"::::::::::::::::::::::::::::::::::::::::::::::::::::::::::::::::::::::::::::::::::::::::\\n\")"
      ],
      "execution_count": 2,
      "outputs": [
        {
          "output_type": "stream",
          "text": [
            "::::::::::::::::::::::::::::::::::::::::::::::::::::::::::::::::::::::::::::::::::::::::\n",
            "::                                                                                    ::\n",
            "::   Regionalkonferenz Informatik 19.1.2021                                           ::\n",
            "::        IPythonNotebook Beispiel.                                                   ::\n",
            "::                                                                                    ::\n",
            "::::::::::::::::::::::::::::::::::::::::::::::::::::::::::::::::::::::::::::::::::::::::\n",
            "\n"
          ],
          "name": "stdout"
        }
      ]
    },
    {
      "cell_type": "code",
      "metadata": {
        "id": "m-bmY-FkHDeg",
        "colab": {
          "base_uri": "https://localhost:8080/"
        },
        "outputId": "a4eef5bc-1be7-4842-eda1-baa861b294f3"
      },
      "source": [
        "print (\"tensorflow hat bekannte Probleme mit Python ver. 3.7. Installiert ist:: Python ver.:\",platform.python_version())\n",
        "import struct\n",
        "print (\"tensorflow benötigt 64-Bit. Installiert ist                          :: \", end = '')\n",
        "print(struct.calcsize(\"P\") * 8, \"-Bit\")\n",
        "import tensorflow as tf\n",
        "print (\"Bibliothek:: import tensorflow as tf                              ver.:\", tf.__version__)\n"
      ],
      "execution_count": 5,
      "outputs": [
        {
          "output_type": "stream",
          "text": [
            "tensorflow hat bekannte Probleme mit Python ver. 3.7. Installiert ist:: Python ver.: 3.6.9\n",
            "tensorflow benötigt 64-Bit. Installiert ist                          :: 64 -Bit\n",
            "Bibliothek:: import tensorflow as tf                              ver.: 2.4.0\n"
          ],
          "name": "stdout"
        }
      ]
    },
    {
      "cell_type": "markdown",
      "metadata": {
        "id": "oDO1gvTuHL_w"
      },
      "source": [
        "# Python notebooks\n",
        "Python notebooks sind zweigeteilt in ausführbare Zellen und Zellen in denen Texte Bilder stehen können. \n",
        "\n",
        "**Bsp:**\n",
        "# Aufgaben\n",
        "1.   Andere untenstehenden Quellcode so, dass die Variable x einen sprechenden Name erhält.\n",
        "2.   Frage den Nutzer nach seinem Alter und werte es aus.\n",
        "\n"
      ]
    },
    {
      "cell_type": "code",
      "metadata": {
        "id": "kQ6PRw5kHDeg",
        "colab": {
          "base_uri": "https://localhost:8080/"
        },
        "outputId": "6f8a1837-f1ee-4b8c-a95b-b060e11d4dbc"
      },
      "source": [
        "\n",
        "x = input (\"Wie lautet Dein Name? \")\n",
        "print (\"Hallo \", x, \", wie geht's dir?\")"
      ],
      "execution_count": 1,
      "outputs": [
        {
          "output_type": "stream",
          "text": [
            "Wie lautet Dein Name? asdf\n",
            "Hallo  asdf ! Wie geht's dir?\n"
          ],
          "name": "stdout"
        }
      ]
    }
  ]
}